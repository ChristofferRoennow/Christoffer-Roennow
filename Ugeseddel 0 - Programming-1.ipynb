{
 "cells": [
  {
   "cell_type": "code",
   "execution_count": 93,
   "id": "fdace401",
   "metadata": {},
   "outputs": [
    {
     "name": "stdout",
     "output_type": "stream",
     "text": [
      "3\n"
     ]
    }
   ],
   "source": [
    "\n",
    "a=1\n",
    "b=2\n",
    "c=a+b\n",
    "print(c)"
   ]
  },
  {
   "cell_type": "code",
   "execution_count": 94,
   "id": "de9667dc",
   "metadata": {},
   "outputs": [
    {
     "name": "stdout",
     "output_type": "stream",
     "text": [
      "[0, 1]\n",
      "[2, 3, 4, 5]\n"
     ]
    }
   ],
   "source": [
    "\n",
    "x=[0,1,2,3,4,5]\n",
    "print(x[:2])\n",
    "print(x[2:])\n"
   ]
  },
  {
   "cell_type": "code",
   "execution_count": 95,
   "id": "72f98c57",
   "metadata": {},
   "outputs": [
    {
     "name": "stdout",
     "output_type": "stream",
     "text": [
      "[1, 2, 4]\n"
     ]
    }
   ],
   "source": [
    "x=[1,2,3]\n",
    "y=x\n",
    "y[-1]=4\n",
    "print(x)\n"
   ]
  },
  {
   "cell_type": "code",
   "execution_count": 96,
   "id": "ade25678",
   "metadata": {},
   "outputs": [
    {
     "name": "stdout",
     "output_type": "stream",
     "text": [
      "0\n",
      "1\n"
     ]
    }
   ],
   "source": [
    "for i in range(5):\n",
    "    if i>=2: break\n",
    "    print(i)\n"
   ]
  },
  {
   "cell_type": "code",
   "execution_count": 97,
   "id": "6cc091cc",
   "metadata": {},
   "outputs": [
    {
     "name": "stdout",
     "output_type": "stream",
     "text": [
      "0\n",
      "1\n",
      "3\n",
      "4\n"
     ]
    }
   ],
   "source": [
    "for i in range(5):\n",
    "    if i==2: continue\n",
    "    print(i)    "
   ]
  },
  {
   "cell_type": "code",
   "execution_count": 98,
   "id": "a26a74ac",
   "metadata": {},
   "outputs": [
    {
     "name": "stdout",
     "output_type": "stream",
     "text": [
      "just right\n"
     ]
    }
   ],
   "source": [
    "x=3\n",
    "if x>3:\n",
    "    print(\"too big\")\n",
    "elif x<1:\n",
    "    print(\"too small\")\n",
    "else:\n",
    "    print(\"just right\")"
   ]
  },
  {
   "cell_type": "code",
   "execution_count": 99,
   "id": "a05feab9",
   "metadata": {},
   "outputs": [
    {
     "name": "stdout",
     "output_type": "stream",
     "text": [
      "2\n",
      "2\n",
      "3\n",
      "2\n"
     ]
    }
   ],
   "source": [
    "a=1\n",
    "def f(x):\n",
    "    return x+a\n",
    "def g(x,a=1):\n",
    "    return x+a\n",
    "print(f(1))\n",
    "print(g(1))\n",
    "a=2\n",
    "print(f(1))\n",
    "print(g(1))"
   ]
  },
  {
   "cell_type": "code",
   "execution_count": 100,
   "id": "19f1da9f",
   "metadata": {},
   "outputs": [
    {
     "name": "stdout",
     "output_type": "stream",
     "text": [
      "[2 3 4]\n",
      "[3 4 5]\n",
      "[3 4 5]\n"
     ]
    }
   ],
   "source": [
    "import numpy as np\n",
    "x=np.array([1,2,3])\n",
    "y=x\n",
    "x+=1\n",
    "print(y)  # y is changed because x and y share the same array\n",
    "x[:]=x+1\n",
    "print(y)  # y is changed because x and y share the same array\n",
    "x=x+1\n",
    "print(y)  # y is NOT changed because x now refers to a new array\n"
   ]
  },
  {
   "cell_type": "code",
   "execution_count": 101,
   "id": "f2321eab",
   "metadata": {},
   "outputs": [
    {
     "name": "stdout",
     "output_type": "stream",
     "text": [
      "4\n"
     ]
    }
   ],
   "source": [
    "class SquareClass:\n",
    "    def __init__(self,length,width):\n",
    "        self.length=length\n",
    "        self.width=width\n",
    "    def size(self):\n",
    "        return self.length*self.width\n",
    "square=SquareClass(2,2)\n",
    "print(square.size())"
   ]
  },
  {
   "cell_type": "code",
   "execution_count": null,
   "id": "a90f594a",
   "metadata": {},
   "outputs": [],
   "source": []
  }
 ],
 "metadata": {
  "kernelspec": {
   "display_name": "base",
   "language": "python",
   "name": "python3"
  },
  "language_info": {
   "codemirror_mode": {
    "name": "ipython",
    "version": 3
   },
   "file_extension": ".py",
   "mimetype": "text/x-python",
   "name": "python",
   "nbconvert_exporter": "python",
   "pygments_lexer": "ipython3",
   "version": "3.13.5"
  }
 },
 "nbformat": 4,
 "nbformat_minor": 5
}
